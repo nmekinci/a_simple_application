{
 "cells": [
  {
   "cell_type": "markdown",
   "id": "ee9e7e19",
   "metadata": {},
   "source": [
    "# IPywidget Ugulamasi"
   ]
  },
  {
   "cell_type": "code",
   "execution_count": 1,
   "id": "c5faab1f",
   "metadata": {},
   "outputs": [],
   "source": [
    "import ipywidgets as widgets\n",
    "import pandas as pd\n",
    "import numpy as np\n",
    "from io import StringIO\n",
    "import matplotlib.pyplot as plt\n",
    "%matplotlib inline"
   ]
  },
  {
   "cell_type": "markdown",
   "id": "591a4beb",
   "metadata": {},
   "source": [
    "# Tab Widgets"
   ]
  },
  {
   "cell_type": "code",
   "execution_count": 2,
   "id": "c64c05cb",
   "metadata": {},
   "outputs": [
    {
     "data": {
      "application/vnd.jupyter.widget-view+json": {
       "model_id": "50651125374d472993c9683813860df2",
       "version_major": 2,
       "version_minor": 0
      },
      "text/plain": [
       "Tab(children=(Label(value=''), Label(value=''), Label(value='')), _titles={'0': 'Upload', '1': 'Describer', '2…"
      ]
     },
     "metadata": {},
     "output_type": "display_data"
    }
   ],
   "source": [
    "tab= widgets.Tab()\n",
    "placeholder = widgets.Label()\n",
    "tab.children = [placeholder, placeholder,placeholder]\n",
    "tab.set_title(0, \"Upload\")\n",
    "tab.set_title(1, \"Describer\")\n",
    "tab.set_title(2, \"Plotter\")\n",
    "tab"
   ]
  },
  {
   "cell_type": "markdown",
   "id": "a601e3a7",
   "metadata": {},
   "source": [
    "# Upload File Widget"
   ]
  },
  {
   "cell_type": "code",
   "execution_count": 5,
   "id": "61369ad7",
   "metadata": {},
   "outputs": [
    {
     "data": {
      "application/vnd.jupyter.widget-view+json": {
       "model_id": "62fe7dfb031b46518278e498753dd467",
       "version_major": 2,
       "version_minor": 0
      },
      "text/plain": [
       "FileUpload(value={}, description='Upload')"
      ]
     },
     "metadata": {},
     "output_type": "display_data"
    }
   ],
   "source": [
    "up = widgets.FileUpload(accept=\"\", multiple=False)\n",
    "up"
   ]
  },
  {
   "cell_type": "markdown",
   "id": "3e825949",
   "metadata": {},
   "source": [
    "# Output Widget"
   ]
  },
  {
   "cell_type": "code",
   "execution_count": 6,
   "id": "49d5e813",
   "metadata": {},
   "outputs": [
    {
     "data": {
      "application/vnd.jupyter.widget-view+json": {
       "model_id": "50651125374d472993c9683813860df2",
       "version_major": 2,
       "version_minor": 0
      },
      "text/plain": [
       "Tab(children=(FileUpload(value={}, description='Upload'), Output(layout=Layout(border='1px solid black')), Out…"
      ]
     },
     "metadata": {},
     "output_type": "display_data"
    }
   ],
   "source": [
    "out = widgets.Output(layout={\"border\":\"1px solid black\"})\n",
    "tab.children = [up, out, out]\n",
    "tab #in the first tab there is an up, second and third has an out like a black line"
   ]
  },
  {
   "cell_type": "markdown",
   "id": "35bd550b",
   "metadata": {},
   "source": [
    "# Select multiple Widget"
   ]
  },
  {
   "cell_type": "code",
   "execution_count": 15,
   "id": "1060a115",
   "metadata": {},
   "outputs": [
    {
     "data": {
      "application/vnd.jupyter.widget-view+json": {
       "model_id": "ebd4bef8e4434f7abd745a7cf919b82d",
       "version_major": 2,
       "version_minor": 0
      },
      "text/plain": [
       "SelectMultiple(description='eraser: ', index=(0,), options=('tab', '1', '2'), value=('tab',))"
      ]
     },
     "metadata": {},
     "output_type": "display_data"
    }
   ],
   "source": [
    "eraser = widgets.SelectMultiple(\n",
    "options=[\"tab\",\"1\",\"2\"],\n",
    "value= [\"tab\"],\n",
    "#rows=10,\n",
    "description='eraser: ',\n",
    "disabled = False)\n",
    "eraser"
   ]
  },
  {
   "cell_type": "markdown",
   "id": "c8ed2a3d",
   "metadata": {},
   "source": [
    "# RadioButton widgets"
   ]
  },
  {
   "cell_type": "code",
   "execution_count": 12,
   "id": "adca78f2",
   "metadata": {},
   "outputs": [
    {
     "data": {
      "application/vnd.jupyter.widget-view+json": {
       "model_id": "7314906dd6344d2eacd07f102313a8c8",
       "version_major": 2,
       "version_minor": 0
      },
      "text/plain": [
       "RadioButtons(description='Seperator: ', options=('; Semicolon', ': Colon', ', Comma'), value='; Semicolon')"
      ]
     },
     "metadata": {},
     "output_type": "display_data"
    }
   ],
   "source": [
    "delim = widgets.RadioButtons(\n",
    "options=['; Semicolon',': Colon',', Comma'],\n",
    "description='Seperator: ',\n",
    "disabled= False\n",
    ")\n",
    "delim"
   ]
  },
  {
   "cell_type": "markdown",
   "id": "8f8200e5",
   "metadata": {},
   "source": [
    "# Intslider"
   ]
  },
  {
   "cell_type": "code",
   "execution_count": 27,
   "id": "1cd96675",
   "metadata": {},
   "outputs": [
    {
     "data": {
      "application/vnd.jupyter.widget-view+json": {
       "model_id": "ec77f8c13fd74966b38cbb187fe4f666",
       "version_major": 2,
       "version_minor": 0
      },
      "text/plain": [
       "IntSlider(value=0, description='# of lines: ')"
      ]
     },
     "metadata": {},
     "output_type": "display_data"
    }
   ],
   "source": [
    "rows = widgets.IntSlider(\n",
    "value= 0,\n",
    "step= 1,\n",
    "description= \"# of lines: \",\n",
    "disabled=False,\n",
    "continous_update=False,\n",
    "orientation= \"horizontal\",\n",
    "readout=True,\n",
    "readout_format='d'\n",
    ")\n",
    "rows"
   ]
  },
  {
   "cell_type": "markdown",
   "id": "c8e2ed55",
   "metadata": {},
   "source": [
    "# Accordion widget"
   ]
  },
  {
   "cell_type": "code",
   "execution_count": 28,
   "id": "6fdf1169",
   "metadata": {},
   "outputs": [
    {
     "data": {
      "application/vnd.jupyter.widget-view+json": {
       "model_id": "076ee264310f429894394291be72c260",
       "version_major": 2,
       "version_minor": 0
      },
      "text/plain": [
       "Accordion(children=(FileUpload(value={}, description='Upload'), RadioButtons(description='Seperator: ', option…"
      ]
     },
     "metadata": {},
     "output_type": "display_data"
    }
   ],
   "source": [
    "accordion = widgets.Accordion()\n",
    "accordion.children=[\n",
    "    up,\n",
    "    delim,\n",
    "    rows\n",
    "]\n",
    "accordion.set_title(0, 'file selection')\n",
    "accordion.set_title(1, 'delimiter')\n",
    "accordion.set_title(2, 'skip rows')\n",
    "accordion"
   ]
  },
  {
   "cell_type": "markdown",
   "id": "2cc5f975",
   "metadata": {},
   "source": [
    "# Button Widget"
   ]
  },
  {
   "cell_type": "code",
   "execution_count": 42,
   "id": "f2497833",
   "metadata": {},
   "outputs": [
    {
     "data": {
      "application/vnd.jupyter.widget-view+json": {
       "model_id": "958a041ded45454c9fd9170f2e2c34f5",
       "version_major": 2,
       "version_minor": 0
      },
      "text/plain": [
       "Button(button_style='success', description='upLoad', icon='check', style=ButtonStyle(), tooltip='Click To UpLo…"
      ]
     },
     "metadata": {},
     "output_type": "display_data"
    }
   ],
   "source": [
    "button_upload = widgets.Button(\n",
    "description=\"upLoad\",\n",
    "disabled=False,\n",
    "button_style = 'success',#'primary', 'success', 'info', 'warning', 'danger'\n",
    "tooltip = 'Click To UpLoad',\n",
    "icon = 'check'#plus minus \n",
    ")\n",
    "button_upload"
   ]
  },
  {
   "cell_type": "code",
   "execution_count": 44,
   "id": "a9dcffb9",
   "metadata": {},
   "outputs": [
    {
     "data": {
      "application/vnd.jupyter.widget-view+json": {
       "model_id": "7635bac532574a1388aaca0e202dfedc",
       "version_major": 2,
       "version_minor": 0
      },
      "text/plain": [
       "Button(button_style='info', description='preView', icon='search', style=ButtonStyle(), tooltip='Click To PreVi…"
      ]
     },
     "metadata": {},
     "output_type": "display_data"
    }
   ],
   "source": [
    "button_preview = widgets.Button(\n",
    "description=\"preView\",\n",
    "disabled=False,\n",
    "button_style = 'info',\n",
    "tooltip = 'Click To PreView',\n",
    "icon = 'search'\n",
    ")\n",
    "button_preview"
   ]
  },
  {
   "cell_type": "code",
   "execution_count": 45,
   "id": "ef023e81",
   "metadata": {},
   "outputs": [
    {
     "data": {
      "application/vnd.jupyter.widget-view+json": {
       "model_id": "fdf27747061e41e8ac96c24d76cd1a6d",
       "version_major": 2,
       "version_minor": 0
      },
      "text/plain": [
       "Button(button_style='danger', description='Plot', icon='pencil', style=ButtonStyle(), tooltip='Click To Plot')"
      ]
     },
     "metadata": {},
     "output_type": "display_data"
    }
   ],
   "source": [
    "button_plot = widgets.Button(\n",
    "description=\"Plot\",\n",
    "disabled=False,\n",
    "button_style = 'danger',\n",
    "tooltip = 'Click To Plot',\n",
    "icon = 'pencil'\n",
    ")\n",
    "button_plot"
   ]
  },
  {
   "cell_type": "markdown",
   "id": "8b4b02c1",
   "metadata": {},
   "source": [
    "# Groupping Hbox/Vbox"
   ]
  },
  {
   "cell_type": "code",
   "execution_count": 48,
   "id": "a8f75e7a",
   "metadata": {},
   "outputs": [
    {
     "data": {
      "application/vnd.jupyter.widget-view+json": {
       "model_id": "3bed01bf17e249e5854824979421daa4",
       "version_major": 2,
       "version_minor": 0
      },
      "text/plain": [
       "VBox(children=(RadioButtons(description='Seperator: ', options=('; Semicolon', ': Colon', ', Comma'), value=';…"
      ]
     },
     "metadata": {},
     "output_type": "display_data"
    }
   ],
   "source": [
    "vb = widgets.VBox([delim,eraser])\n",
    "vb"
   ]
  },
  {
   "cell_type": "code",
   "execution_count": 49,
   "id": "63c3cf99",
   "metadata": {},
   "outputs": [
    {
     "data": {
      "application/vnd.jupyter.widget-view+json": {
       "model_id": "faf74338a9234ff8916a02661d2aeb6f",
       "version_major": 2,
       "version_minor": 0
      },
      "text/plain": [
       "HBox(children=(RadioButtons(description='Seperator: ', options=('; Semicolon', ': Colon', ', Comma'), value=';…"
      ]
     },
     "metadata": {},
     "output_type": "display_data"
    }
   ],
   "source": [
    "hb = widgets.HBox([delim,eraser])\n",
    "hb"
   ]
  },
  {
   "cell_type": "code",
   "execution_count": 50,
   "id": "3fd2ddb3",
   "metadata": {},
   "outputs": [
    {
     "data": {
      "application/vnd.jupyter.widget-view+json": {
       "model_id": "fa3e2ae00ebf47828bf4f7dd74a23211",
       "version_major": 2,
       "version_minor": 0
      },
      "text/plain": [
       "VBox(children=(Accordion(children=(FileUpload(value={}, description='Upload'), VBox(children=(RadioButtons(des…"
      ]
     },
     "metadata": {},
     "output_type": "display_data"
    }
   ],
   "source": [
    "accordion.children = [\n",
    "    up,\n",
    "    widgets.VBox([delim,eraser]),\n",
    "    rows\n",
    "]\n",
    "accordion_box= widgets.VBox([\n",
    "    accordion,\n",
    "    widgets.HBox([button_preview, button_upload]),\n",
    "    out\n",
    "])\n",
    "accordion_box"
   ]
  },
  {
   "cell_type": "markdown",
   "id": "4be5e54d",
   "metadata": {},
   "source": [
    "# Toggle Buttons Widget"
   ]
  },
  {
   "cell_type": "code",
   "execution_count": 59,
   "id": "b726b4b3",
   "metadata": {},
   "outputs": [
    {
     "data": {
      "application/vnd.jupyter.widget-view+json": {
       "model_id": "12df8052c1e34a50a2b908f5b4621320",
       "version_major": 2,
       "version_minor": 0
      },
      "text/plain": [
       "ToggleButtons(button_style='warning', description='optionS', icons=('search', 'info', 'tachometer'), options=(…"
      ]
     },
     "metadata": {},
     "output_type": "display_data"
    }
   ],
   "source": [
    "toggle = widgets.ToggleButtons(\n",
    "    options= ['preview ', 'info ', 'stats '],\n",
    "    description = 'optionS',\n",
    "    disabled=False,\n",
    "    button_style= 'warning',\n",
    "    icons=['search', 'info', 'tachometer']\n",
    ")\n",
    "#    toggle.observe(desc_clicked, 'value'))\n",
    "toggle# toggle buttons are using like a radio buttons logic. when we choose a button the others will deact."
   ]
  },
  {
   "cell_type": "markdown",
   "id": "936ff966",
   "metadata": {},
   "source": [
    "# Dropdown widget"
   ]
  },
  {
   "cell_type": "code",
   "execution_count": 62,
   "id": "2b44a3fd",
   "metadata": {
    "scrolled": true
   },
   "outputs": [
    {
     "data": {
      "application/vnd.jupyter.widget-view+json": {
       "model_id": "7acc794b39474d619b07bb52b9e84ebe",
       "version_major": 2,
       "version_minor": 0
      },
      "text/plain": [
       "Dropdown(description='Chart TypE: ', options=('Bar Chart', 'Line charT'), value='Bar Chart')"
      ]
     },
     "metadata": {},
     "output_type": "display_data"
    }
   ],
   "source": [
    "x_axis = widgets.Dropdown(\n",
    "    options=[''],\n",
    "    value='',\n",
    "    description='X-aXis',\n",
    "    disabled= False\n",
    "    )\n",
    "\n",
    "y_axis = widgets.Dropdown(\n",
    "    options=[''],\n",
    "    value='',\n",
    "    description='Y-aXis',\n",
    "    disabled= False\n",
    "    )\n",
    "\n",
    "graph_type = widgets.Dropdown(\n",
    "    options= ['Bar Chart', 'Line chart'],\n",
    "    value='Bar Chart', #which one will default\n",
    "    description = 'Chart TypE: ',\n",
    "    disabled= False\n",
    "    )\n",
    "graph_type"
   ]
  },
  {
   "cell_type": "markdown",
   "id": "f0526904",
   "metadata": {},
   "source": [
    "# Colorpicker widget"
   ]
  },
  {
   "cell_type": "code",
   "execution_count": 66,
   "id": "5e003cee",
   "metadata": {},
   "outputs": [
    {
     "data": {
      "application/vnd.jupyter.widget-view+json": {
       "model_id": "1278cd39ac2b4b26b6b28cda08da394b",
       "version_major": 2,
       "version_minor": 0
      },
      "text/plain": [
       "ColorPicker(value='lightblue', description='Color PickeR: ')"
      ]
     },
     "metadata": {},
     "output_type": "display_data"
    }
   ],
   "source": [
    "color_picker = widgets.ColorPicker(\n",
    "    concise= False,\n",
    "    description= 'Color PickeR: ',\n",
    "    value = 'lightblue', #default value\n",
    "    disabled = False\n",
    "    )\n",
    "color_picker"
   ]
  },
  {
   "cell_type": "code",
   "execution_count": null,
   "id": "8bb39d53",
   "metadata": {},
   "outputs": [],
   "source": []
  },
  {
   "cell_type": "code",
   "execution_count": null,
   "id": "2a775fa1",
   "metadata": {},
   "outputs": [],
   "source": []
  }
 ],
 "metadata": {
  "kernelspec": {
   "display_name": "Python 3 (ipykernel)",
   "language": "python",
   "name": "python3"
  },
  "language_info": {
   "codemirror_mode": {
    "name": "ipython",
    "version": 3
   },
   "file_extension": ".py",
   "mimetype": "text/x-python",
   "name": "python",
   "nbconvert_exporter": "python",
   "pygments_lexer": "ipython3",
   "version": "3.9.12"
  }
 },
 "nbformat": 4,
 "nbformat_minor": 5
}
