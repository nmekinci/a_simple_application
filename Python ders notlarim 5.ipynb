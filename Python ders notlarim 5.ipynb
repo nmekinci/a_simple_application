{
 "cells": [
  {
   "cell_type": "markdown",
   "id": "ee9e7e19",
   "metadata": {},
   "source": [
    "# IPywidget Ugulamasi"
   ]
  },
  {
   "cell_type": "code",
   "execution_count": 2,
   "id": "c5faab1f",
   "metadata": {},
   "outputs": [],
   "source": [
    "import ipywidgets as widgets\n",
    "import pandas as pd\n",
    "import numpy as np\n",
    "from io import StringIO\n",
    "import matplotlib.pyplot as plt\n",
    "%matplotlib inline"
   ]
  },
  {
   "cell_type": "markdown",
   "id": "591a4beb",
   "metadata": {},
   "source": [
    "# Tab Widgets"
   ]
  },
  {
   "cell_type": "code",
   "execution_count": 4,
   "id": "c64c05cb",
   "metadata": {},
   "outputs": [
    {
     "data": {
      "application/vnd.jupyter.widget-view+json": {
       "model_id": "86c0149d07064de18684adfa9ce1d0c1",
       "version_major": 2,
       "version_minor": 0
      },
      "text/plain": [
       "Tab(children=(Label(value=''), Label(value=''), Label(value='')), _titles={'0': 'Upload', '1': 'Describer', '2…"
      ]
     },
     "metadata": {},
     "output_type": "display_data"
    }
   ],
   "source": [
    "tab= widgets.Tab()\n",
    "placeholder = widgets.Label()\n",
    "tab.children = [placeholder, placeholder,placeholder]\n",
    "tab.set_title(0, \"Upload\")\n",
    "tab.set_title(1, \"Describer\")\n",
    "tab.set_title(2, \"Plotter\")\n",
    "tab"
   ]
  },
  {
   "cell_type": "markdown",
   "id": "a601e3a7",
   "metadata": {},
   "source": [
    "# Upload File Widget"
   ]
  },
  {
   "cell_type": "code",
   "execution_count": 5,
   "id": "61369ad7",
   "metadata": {},
   "outputs": [
    {
     "data": {
      "application/vnd.jupyter.widget-view+json": {
       "model_id": "e8239a5a2bc1449bba179115d248d3b3",
       "version_major": 2,
       "version_minor": 0
      },
      "text/plain": [
       "FileUpload(value={}, description='Upload')"
      ]
     },
     "metadata": {},
     "output_type": "display_data"
    }
   ],
   "source": [
    "up = widgets.FileUpload(accept=\"\", multiple=False)\n",
    "up"
   ]
  },
  {
   "cell_type": "markdown",
   "id": "3e825949",
   "metadata": {},
   "source": [
    "# Output Widget"
   ]
  },
  {
   "cell_type": "code",
   "execution_count": 6,
   "id": "49d5e813",
   "metadata": {},
   "outputs": [
    {
     "data": {
      "application/vnd.jupyter.widget-view+json": {
       "model_id": "86c0149d07064de18684adfa9ce1d0c1",
       "version_major": 2,
       "version_minor": 0
      },
      "text/plain": [
       "Tab(children=(FileUpload(value={}, description='Upload'), Output(layout=Layout(border='1px solid black')), Out…"
      ]
     },
     "metadata": {},
     "output_type": "display_data"
    }
   ],
   "source": [
    "out = widgets.Output(layout={\"border\":\"1px solid black\"})\n",
    "tab.children = [up, out, out]\n",
    "tab #in the first tab there is an up, second and third has an out like a black line"
   ]
  },
  {
   "cell_type": "markdown",
   "id": "35bd550b",
   "metadata": {},
   "source": [
    "# Select multiple Widget"
   ]
  },
  {
   "cell_type": "code",
   "execution_count": 7,
   "id": "1060a115",
   "metadata": {},
   "outputs": [
    {
     "data": {
      "application/vnd.jupyter.widget-view+json": {
       "model_id": "ff2efdc63229469cb42593d31343bf37",
       "version_major": 2,
       "version_minor": 0
      },
      "text/plain": [
       "SelectMultiple(description='eraser: ', index=(0,), options=('tab', '1', '2'), value=('tab',))"
      ]
     },
     "metadata": {},
     "output_type": "display_data"
    }
   ],
   "source": [
    "eraser = widgets.SelectMultiple(\n",
    "options=[\"tab\",\"1\",\"2\"],\n",
    "value= [\"tab\"],\n",
    "#rows=10,\n",
    "description='eraser: ',\n",
    "disabled = False)\n",
    "eraser"
   ]
  },
  {
   "cell_type": "markdown",
   "id": "c8ed2a3d",
   "metadata": {},
   "source": [
    "# RadioButton widgets"
   ]
  },
  {
   "cell_type": "code",
   "execution_count": 34,
   "id": "adca78f2",
   "metadata": {},
   "outputs": [
    {
     "data": {
      "application/vnd.jupyter.widget-view+json": {
       "model_id": "54fdeb98bbcd42aa95ecbdc3af582524",
       "version_major": 2,
       "version_minor": 0
      },
      "text/plain": [
       "RadioButtons(description='Seperator: ', options=(';', ',', ' '), value=';')"
      ]
     },
     "metadata": {},
     "output_type": "display_data"
    }
   ],
   "source": [
    "delim = widgets.RadioButtons(\n",
    "options=[';', ',', ' '],\n",
    "description='Seperator: ',\n",
    "disabled= False\n",
    ")\n",
    "delim"
   ]
  },
  {
   "cell_type": "markdown",
   "id": "8f8200e5",
   "metadata": {},
   "source": [
    "# Intslider"
   ]
  },
  {
   "cell_type": "code",
   "execution_count": 9,
   "id": "1cd96675",
   "metadata": {},
   "outputs": [
    {
     "data": {
      "application/vnd.jupyter.widget-view+json": {
       "model_id": "1829e0ffb43e485a8811678f50852e45",
       "version_major": 2,
       "version_minor": 0
      },
      "text/plain": [
       "IntSlider(value=0, description='# of lines: ')"
      ]
     },
     "metadata": {},
     "output_type": "display_data"
    }
   ],
   "source": [
    "rows = widgets.IntSlider(\n",
    "value= 0,\n",
    "step= 1,\n",
    "description= \"# of lines: \",\n",
    "disabled=False,\n",
    "continous_update=False,\n",
    "orientation= \"horizontal\",\n",
    "readout=True,\n",
    "readout_format='d'\n",
    ")\n",
    "rows"
   ]
  },
  {
   "cell_type": "markdown",
   "id": "c8e2ed55",
   "metadata": {},
   "source": [
    "# Accordion widget"
   ]
  },
  {
   "cell_type": "code",
   "execution_count": 10,
   "id": "6fdf1169",
   "metadata": {},
   "outputs": [
    {
     "data": {
      "application/vnd.jupyter.widget-view+json": {
       "model_id": "e680960d0128446ca7514d49e2fcc857",
       "version_major": 2,
       "version_minor": 0
      },
      "text/plain": [
       "Accordion(children=(FileUpload(value={}, description='Upload'), RadioButtons(description='Seperator: ', option…"
      ]
     },
     "metadata": {},
     "output_type": "display_data"
    }
   ],
   "source": [
    "accordion = widgets.Accordion()\n",
    "accordion.children=[\n",
    "    up,\n",
    "    delim,\n",
    "    rows\n",
    "]\n",
    "accordion.set_title(0, 'file selection')\n",
    "accordion.set_title(1, 'delimiter')\n",
    "accordion.set_title(2, 'skip rows')\n",
    "accordion"
   ]
  },
  {
   "cell_type": "markdown",
   "id": "2cc5f975",
   "metadata": {},
   "source": [
    "# Button Widget"
   ]
  },
  {
   "cell_type": "code",
   "execution_count": 11,
   "id": "f2497833",
   "metadata": {},
   "outputs": [
    {
     "data": {
      "application/vnd.jupyter.widget-view+json": {
       "model_id": "88b693b34b804a798c91aba62c568a44",
       "version_major": 2,
       "version_minor": 0
      },
      "text/plain": [
       "Button(button_style='success', description='upLoad', icon='check', style=ButtonStyle(), tooltip='Click To UpLo…"
      ]
     },
     "metadata": {},
     "output_type": "display_data"
    }
   ],
   "source": [
    "button_upload = widgets.Button(\n",
    "description=\"upLoad\",\n",
    "disabled=False,\n",
    "button_style = 'success',#'primary', 'success', 'info', 'warning', 'danger'\n",
    "tooltip = 'Click To UpLoad',\n",
    "icon = 'check'#plus minus \n",
    ")\n",
    "button_upload"
   ]
  },
  {
   "cell_type": "code",
   "execution_count": 12,
   "id": "a9dcffb9",
   "metadata": {},
   "outputs": [
    {
     "data": {
      "application/vnd.jupyter.widget-view+json": {
       "model_id": "08f0163dec8546cb94ac892989a9b389",
       "version_major": 2,
       "version_minor": 0
      },
      "text/plain": [
       "Button(button_style='info', description='preView', icon='search', style=ButtonStyle(), tooltip='Click To PreVi…"
      ]
     },
     "metadata": {},
     "output_type": "display_data"
    }
   ],
   "source": [
    "button_preview = widgets.Button(\n",
    "description=\"preView\",\n",
    "disabled=False,\n",
    "button_style = 'info',\n",
    "tooltip = 'Click To PreView',\n",
    "icon = 'search'\n",
    ")\n",
    "button_preview"
   ]
  },
  {
   "cell_type": "code",
   "execution_count": 13,
   "id": "ef023e81",
   "metadata": {},
   "outputs": [
    {
     "data": {
      "application/vnd.jupyter.widget-view+json": {
       "model_id": "6059ff9288794627bcc7eae754968dbf",
       "version_major": 2,
       "version_minor": 0
      },
      "text/plain": [
       "Button(button_style='danger', description='Plot', icon='pencil', style=ButtonStyle(), tooltip='Click To Plot')"
      ]
     },
     "metadata": {},
     "output_type": "display_data"
    }
   ],
   "source": [
    "button_plot = widgets.Button(\n",
    "description=\"Plot\",\n",
    "disabled=False,\n",
    "button_style = 'danger',\n",
    "tooltip = 'Click To Plot',\n",
    "icon = 'pencil'\n",
    ")\n",
    "button_plot"
   ]
  },
  {
   "cell_type": "markdown",
   "id": "8b4b02c1",
   "metadata": {},
   "source": [
    "# Groupping Hbox/Vbox"
   ]
  },
  {
   "cell_type": "code",
   "execution_count": 14,
   "id": "a8f75e7a",
   "metadata": {},
   "outputs": [
    {
     "data": {
      "application/vnd.jupyter.widget-view+json": {
       "model_id": "6735d064c3c549faa28453bbde819555",
       "version_major": 2,
       "version_minor": 0
      },
      "text/plain": [
       "VBox(children=(RadioButtons(description='Seperator: ', options=('; Semicolon', ': Colon', ', Comma'), value=';…"
      ]
     },
     "metadata": {},
     "output_type": "display_data"
    }
   ],
   "source": [
    "vb = widgets.VBox([delim,eraser])\n",
    "vb"
   ]
  },
  {
   "cell_type": "code",
   "execution_count": 15,
   "id": "63c3cf99",
   "metadata": {},
   "outputs": [
    {
     "data": {
      "application/vnd.jupyter.widget-view+json": {
       "model_id": "02e6d4c8f48f4073b739d1af2891fd86",
       "version_major": 2,
       "version_minor": 0
      },
      "text/plain": [
       "HBox(children=(RadioButtons(description='Seperator: ', options=('; Semicolon', ': Colon', ', Comma'), value=';…"
      ]
     },
     "metadata": {},
     "output_type": "display_data"
    }
   ],
   "source": [
    "hb = widgets.HBox([delim,eraser])\n",
    "hb"
   ]
  },
  {
   "cell_type": "code",
   "execution_count": 36,
   "id": "3fd2ddb3",
   "metadata": {},
   "outputs": [
    {
     "data": {
      "application/vnd.jupyter.widget-view+json": {
       "model_id": "3146d0bb288c4743873351d0849fed19",
       "version_major": 2,
       "version_minor": 0
      },
      "text/plain": [
       "VBox(children=(Accordion(children=(FileUpload(value={'woocommerce-ornek-urun-turkce.csv': {'metadata': {'name'…"
      ]
     },
     "metadata": {},
     "output_type": "display_data"
    }
   ],
   "source": [
    "accordion.children = [\n",
    "    up,\n",
    "    widgets.VBox([delim,eraser]),\n",
    "    rows\n",
    "]\n",
    "accordion_box= widgets.VBox([\n",
    "    accordion,\n",
    "    widgets.HBox([button_preview, button_upload]),\n",
    "    out\n",
    "])\n",
    "accordion_box"
   ]
  },
  {
   "cell_type": "markdown",
   "id": "4be5e54d",
   "metadata": {},
   "source": [
    "# Toggle Buttons Widget"
   ]
  },
  {
   "cell_type": "code",
   "execution_count": 17,
   "id": "b726b4b3",
   "metadata": {},
   "outputs": [
    {
     "data": {
      "application/vnd.jupyter.widget-view+json": {
       "model_id": "45703b845ffa4e78bed5497cbd931661",
       "version_major": 2,
       "version_minor": 0
      },
      "text/plain": [
       "ToggleButtons(button_style='warning', description='optionS', icons=('search', 'info', 'tachometer'), options=(…"
      ]
     },
     "metadata": {},
     "output_type": "display_data"
    }
   ],
   "source": [
    "toggle = widgets.ToggleButtons(\n",
    "    options= ['preview ', 'info ', 'stats '],\n",
    "    description = 'optionS',\n",
    "    disabled=False,\n",
    "    button_style= 'warning',\n",
    "    icons=['search', 'info', 'tachometer']\n",
    ")\n",
    "#    toggle.observe(desc_clicked, 'value'))\n",
    "toggle# toggle buttons are using like a radio buttons logic. when we choose a button the others will deact."
   ]
  },
  {
   "cell_type": "markdown",
   "id": "936ff966",
   "metadata": {},
   "source": [
    "# Dropdown widget"
   ]
  },
  {
   "cell_type": "code",
   "execution_count": 18,
   "id": "2b44a3fd",
   "metadata": {
    "scrolled": true
   },
   "outputs": [
    {
     "data": {
      "application/vnd.jupyter.widget-view+json": {
       "model_id": "257c00a7bc144fd4ae867566dffcf087",
       "version_major": 2,
       "version_minor": 0
      },
      "text/plain": [
       "Dropdown(description='Chart TypE: ', options=('Bar Chart', 'Line chart'), value='Bar Chart')"
      ]
     },
     "metadata": {},
     "output_type": "display_data"
    }
   ],
   "source": [
    "x_axis = widgets.Dropdown(\n",
    "    options=[''],\n",
    "    value='',\n",
    "    description='X-aXis',\n",
    "    disabled= False\n",
    "    )\n",
    "\n",
    "y_axis = widgets.Dropdown(\n",
    "    options=[''],\n",
    "    value='',\n",
    "    description='Y-aXis',\n",
    "    disabled= False\n",
    "    )\n",
    "\n",
    "graph_type = widgets.Dropdown(\n",
    "    options= ['Bar Chart', 'Line chart'],\n",
    "    value='Bar Chart', #which one will default\n",
    "    description = 'Chart TypE: ',\n",
    "    disabled= False\n",
    "    )\n",
    "graph_type"
   ]
  },
  {
   "cell_type": "markdown",
   "id": "f0526904",
   "metadata": {},
   "source": [
    "# Colorpicker widget"
   ]
  },
  {
   "cell_type": "code",
   "execution_count": 19,
   "id": "5e003cee",
   "metadata": {},
   "outputs": [
    {
     "data": {
      "application/vnd.jupyter.widget-view+json": {
       "model_id": "ee7480f0f7c740b7be52a33cf958de7b",
       "version_major": 2,
       "version_minor": 0
      },
      "text/plain": [
       "ColorPicker(value='lightblue', description='Color PickeR: ')"
      ]
     },
     "metadata": {},
     "output_type": "display_data"
    }
   ],
   "source": [
    "color_picker = widgets.ColorPicker(\n",
    "    concise= False,\n",
    "    description= 'Color PickeR: ',\n",
    "    value = 'lightblue', #default value\n",
    "    disabled = False\n",
    "    )\n",
    "color_picker"
   ]
  },
  {
   "cell_type": "code",
   "execution_count": null,
   "id": "c616fd2f",
   "metadata": {},
   "outputs": [],
   "source": []
  },
  {
   "cell_type": "code",
   "execution_count": null,
   "id": "bb4fd282",
   "metadata": {},
   "outputs": [],
   "source": []
  },
  {
   "cell_type": "code",
   "execution_count": 35,
   "id": "8bb39d53",
   "metadata": {},
   "outputs": [
    {
     "data": {
      "application/vnd.jupyter.widget-view+json": {
       "model_id": "86c0149d07064de18684adfa9ce1d0c1",
       "version_major": 2,
       "version_minor": 0
      },
      "text/plain": [
       "Tab(children=(VBox(children=(Accordion(children=(FileUpload(value={'woocommerce-ornek-urun-turkce.csv': {'meta…"
      ]
     },
     "metadata": {},
     "output_type": "display_data"
    }
   ],
   "source": [
    "children = [\n",
    "    accordion_box,\n",
    "    widgets.VBox([toggle, out]),\n",
    "    widgets.VBox([\n",
    "        widgets.HBox([graph_type,color_picker]),\n",
    "        widgets.HBox([x_axis,y_axis]),\n",
    "        button_plot,\n",
    "        out\n",
    "    ])\n",
    "]\n",
    "tab.children = children\n",
    "tab"
   ]
  },
  {
   "cell_type": "code",
   "execution_count": 28,
   "id": "4158d25a",
   "metadata": {},
   "outputs": [],
   "source": [
    "def content_parser():\n",
    "    if up.value == {}:\n",
    "        with out:\n",
    "            print('No CSV loaded')\n",
    "    else:\n",
    "        typ, content = \"\", \"\"\n",
    "        up_value = up.value\n",
    "        for i in up_value.keys():\n",
    "            typ = up_value[i][\"metadata\"][\"type\"]\n",
    "        if typ == \"text/csv\":\n",
    "            content = up_value[i][\"content\"]\n",
    "            content_str = str(content, 'utf-8')\n",
    "    \n",
    "            if eraser.value != {}: \n",
    "                for val in eraser.value:\n",
    "                    if val == \"tab\":\n",
    "                        content_str = content_str.replace(\"\\t\",\"\")\n",
    "                    else:\n",
    "                        content_str = content_str.replace(val,\"\")\n",
    "            if content_str != \"\":\n",
    "                str_io = StringIO(content_str) \n",
    "                return str_io\n",
    "def df_converter():\n",
    "    content = content_parser()\n",
    "    if content is not None:\n",
    "        df = pd.read_csv(content, sep=delim.value, index_col=False, skiprows=rows.value)    \n",
    "        return df\n",
    "    else:\n",
    "        return None"
   ]
  },
  {
   "cell_type": "code",
   "execution_count": 37,
   "id": "43e089e7",
   "metadata": {},
   "outputs": [
    {
     "data": {
      "text/html": [
       "<div>\n",
       "<style scoped>\n",
       "    .dataframe tbody tr th:only-of-type {\n",
       "        vertical-align: middle;\n",
       "    }\n",
       "\n",
       "    .dataframe tbody tr th {\n",
       "        vertical-align: top;\n",
       "    }\n",
       "\n",
       "    .dataframe thead th {\n",
       "        text-align: right;\n",
       "    }\n",
       "</style>\n",
       "<table border=\"1\" class=\"dataframe\">\n",
       "  <thead>\n",
       "    <tr style=\"text-align: right;\">\n",
       "      <th></th>\n",
       "      <th>Kimlik</th>\n",
       "      <th>Tür</th>\n",
       "      <th>Stok kodu (SKU)</th>\n",
       "      <th>İsim</th>\n",
       "      <th>Yayımlanmış</th>\n",
       "      <th>Öne çıkan?</th>\n",
       "      <th>Katalogda görünürlük</th>\n",
       "      <th>Kısa açıklama</th>\n",
       "      <th>Açıklama</th>\n",
       "      <th>İndirimli fiyatın başladığı tarih</th>\n",
       "      <th>...</th>\n",
       "      <th>Nitelik 1 ismi</th>\n",
       "      <th>Nitelik 1 değer(ler)i</th>\n",
       "      <th>Nitelik 1 görünür</th>\n",
       "      <th>Nitelik 1 genel</th>\n",
       "      <th>Nitelik 1 varsayılan</th>\n",
       "      <th>Nitelik 2 ismi</th>\n",
       "      <th>Nitelik 2 değer(ler)i</th>\n",
       "      <th>Nitelik 2 görünür</th>\n",
       "      <th>Nitelik 2 genel</th>\n",
       "      <th>Nitelik 2 varsayılan</th>\n",
       "    </tr>\n",
       "  </thead>\n",
       "  <tbody>\n",
       "    <tr>\n",
       "      <th>0</th>\n",
       "      <td>11</td>\n",
       "      <td>simple, downloadable, virtual</td>\n",
       "      <td>WOO-SINGLE-1</td>\n",
       "      <td>Woo Tekli # 1</td>\n",
       "      <td>1</td>\n",
       "      <td>0</td>\n",
       "      <td>visible</td>\n",
       "      <td>Gül filmini mi gitti mıknatıslı okuma sayfası ...</td>\n",
       "      <td>Gül filmini mi gitti mıknatıslı okuma sayfası ...</td>\n",
       "      <td>NaN</td>\n",
       "      <td>...</td>\n",
       "      <td>NaN</td>\n",
       "      <td>NaN</td>\n",
       "      <td>NaN</td>\n",
       "      <td>NaN</td>\n",
       "      <td>NaN</td>\n",
       "      <td>NaN</td>\n",
       "      <td>NaN</td>\n",
       "      <td>NaN</td>\n",
       "      <td>NaN</td>\n",
       "      <td>NaN</td>\n",
       "    </tr>\n",
       "    <tr>\n",
       "      <th>1</th>\n",
       "      <td>12</td>\n",
       "      <td>simple, downloadable, virtual</td>\n",
       "      <td>WOO-SINGLE-2</td>\n",
       "      <td>Woo Tekli # 2</td>\n",
       "      <td>1</td>\n",
       "      <td>0</td>\n",
       "      <td>visible</td>\n",
       "      <td>Gül filmini mi gitti mıknatıslı okuma sayfası ...</td>\n",
       "      <td>Gül filmini mi gitti mıknatıslı okuma sayfası ...</td>\n",
       "      <td>NaN</td>\n",
       "      <td>...</td>\n",
       "      <td>NaN</td>\n",
       "      <td>NaN</td>\n",
       "      <td>NaN</td>\n",
       "      <td>NaN</td>\n",
       "      <td>NaN</td>\n",
       "      <td>NaN</td>\n",
       "      <td>NaN</td>\n",
       "      <td>NaN</td>\n",
       "      <td>NaN</td>\n",
       "      <td>NaN</td>\n",
       "    </tr>\n",
       "    <tr>\n",
       "      <th>2</th>\n",
       "      <td>13</td>\n",
       "      <td>simple, virtual</td>\n",
       "      <td>WOO-ALBUM-1</td>\n",
       "      <td>Woo Albüm # 1</td>\n",
       "      <td>1</td>\n",
       "      <td>0</td>\n",
       "      <td>visible</td>\n",
       "      <td>Gül filmini mi gitti mıknatıslı okuma sayfası ...</td>\n",
       "      <td>Gül filmini mi gitti mıknatıslı okuma sayfası ...</td>\n",
       "      <td>NaN</td>\n",
       "      <td>...</td>\n",
       "      <td>NaN</td>\n",
       "      <td>NaN</td>\n",
       "      <td>NaN</td>\n",
       "      <td>NaN</td>\n",
       "      <td>NaN</td>\n",
       "      <td>NaN</td>\n",
       "      <td>NaN</td>\n",
       "      <td>NaN</td>\n",
       "      <td>NaN</td>\n",
       "      <td>NaN</td>\n",
       "    </tr>\n",
       "    <tr>\n",
       "      <th>3</th>\n",
       "      <td>14</td>\n",
       "      <td>simple, virtual</td>\n",
       "      <td>WOO-ALBUM-2</td>\n",
       "      <td>Woo Albüm # 2</td>\n",
       "      <td>1</td>\n",
       "      <td>0</td>\n",
       "      <td>visible</td>\n",
       "      <td>Gül filmini mi gitti mıknatıslı okuma sayfası ...</td>\n",
       "      <td>Gül filmini mi gitti mıknatıslı okuma sayfası ...</td>\n",
       "      <td>NaN</td>\n",
       "      <td>...</td>\n",
       "      <td>NaN</td>\n",
       "      <td>NaN</td>\n",
       "      <td>NaN</td>\n",
       "      <td>NaN</td>\n",
       "      <td>NaN</td>\n",
       "      <td>NaN</td>\n",
       "      <td>NaN</td>\n",
       "      <td>NaN</td>\n",
       "      <td>NaN</td>\n",
       "      <td>NaN</td>\n",
       "    </tr>\n",
       "    <tr>\n",
       "      <th>4</th>\n",
       "      <td>15</td>\n",
       "      <td>simple, virtual</td>\n",
       "      <td>WOO-ALBUM-3</td>\n",
       "      <td>Woo Albüm # 3</td>\n",
       "      <td>1</td>\n",
       "      <td>0</td>\n",
       "      <td>visible</td>\n",
       "      <td>Gül filmini mi gitti mıknatıslı okuma sayfası ...</td>\n",
       "      <td>Gül filmini mi gitti mıknatıslı okuma sayfası ...</td>\n",
       "      <td>NaN</td>\n",
       "      <td>...</td>\n",
       "      <td>NaN</td>\n",
       "      <td>NaN</td>\n",
       "      <td>NaN</td>\n",
       "      <td>NaN</td>\n",
       "      <td>NaN</td>\n",
       "      <td>NaN</td>\n",
       "      <td>NaN</td>\n",
       "      <td>NaN</td>\n",
       "      <td>NaN</td>\n",
       "      <td>NaN</td>\n",
       "    </tr>\n",
       "    <tr>\n",
       "      <th>5</th>\n",
       "      <td>16</td>\n",
       "      <td>simple</td>\n",
       "      <td>T-SHIRT-WOO-LOGO</td>\n",
       "      <td>Woo Logosu</td>\n",
       "      <td>1</td>\n",
       "      <td>0</td>\n",
       "      <td>visible</td>\n",
       "      <td>Gül filmini mi gitti mıknatıslı okuma sayfası ...</td>\n",
       "      <td>Gül filmini mi gitti mıknatıslı okuma sayfası ...</td>\n",
       "      <td>NaN</td>\n",
       "      <td>...</td>\n",
       "      <td>NaN</td>\n",
       "      <td>NaN</td>\n",
       "      <td>NaN</td>\n",
       "      <td>NaN</td>\n",
       "      <td>NaN</td>\n",
       "      <td>NaN</td>\n",
       "      <td>NaN</td>\n",
       "      <td>NaN</td>\n",
       "      <td>NaN</td>\n",
       "      <td>NaN</td>\n",
       "    </tr>\n",
       "    <tr>\n",
       "      <th>6</th>\n",
       "      <td>17</td>\n",
       "      <td>simple</td>\n",
       "      <td>HOODIE-WOO-LOGO</td>\n",
       "      <td>Woo Logosu</td>\n",
       "      <td>1</td>\n",
       "      <td>0</td>\n",
       "      <td>visible</td>\n",
       "      <td>Gül filmini mi gitti mıknatıslı okuma sayfası ...</td>\n",
       "      <td>Gül filmini mi gitti mıknatıslı okuma sayfası ...</td>\n",
       "      <td>NaN</td>\n",
       "      <td>...</td>\n",
       "      <td>NaN</td>\n",
       "      <td>NaN</td>\n",
       "      <td>NaN</td>\n",
       "      <td>NaN</td>\n",
       "      <td>NaN</td>\n",
       "      <td>NaN</td>\n",
       "      <td>NaN</td>\n",
       "      <td>NaN</td>\n",
       "      <td>NaN</td>\n",
       "      <td>NaN</td>\n",
       "    </tr>\n",
       "    <tr>\n",
       "      <th>7</th>\n",
       "      <td>18</td>\n",
       "      <td>simple</td>\n",
       "      <td>T-SHIRT-WOO-NINJA</td>\n",
       "      <td>Woo Ninja</td>\n",
       "      <td>1</td>\n",
       "      <td>0</td>\n",
       "      <td>visible</td>\n",
       "      <td>Gül filmini mi gitti mıknatıslı okuma sayfası ...</td>\n",
       "      <td>Gül filmini mi gitti mıknatıslı okuma sayfası ...</td>\n",
       "      <td>NaN</td>\n",
       "      <td>...</td>\n",
       "      <td>NaN</td>\n",
       "      <td>NaN</td>\n",
       "      <td>NaN</td>\n",
       "      <td>NaN</td>\n",
       "      <td>NaN</td>\n",
       "      <td>NaN</td>\n",
       "      <td>NaN</td>\n",
       "      <td>NaN</td>\n",
       "      <td>NaN</td>\n",
       "      <td>NaN</td>\n",
       "    </tr>\n",
       "    <tr>\n",
       "      <th>8</th>\n",
       "      <td>19</td>\n",
       "      <td>simple</td>\n",
       "      <td>HOODIE-WOO-NINJA</td>\n",
       "      <td>Woo Ninja</td>\n",
       "      <td>1</td>\n",
       "      <td>0</td>\n",
       "      <td>visible</td>\n",
       "      <td>Gül filmini mi gitti mıknatıslı okuma sayfası ...</td>\n",
       "      <td>Gül filmini mi gitti mıknatıslı okuma sayfası ...</td>\n",
       "      <td>NaN</td>\n",
       "      <td>...</td>\n",
       "      <td>NaN</td>\n",
       "      <td>NaN</td>\n",
       "      <td>NaN</td>\n",
       "      <td>NaN</td>\n",
       "      <td>NaN</td>\n",
       "      <td>NaN</td>\n",
       "      <td>NaN</td>\n",
       "      <td>NaN</td>\n",
       "      <td>NaN</td>\n",
       "      <td>NaN</td>\n",
       "    </tr>\n",
       "    <tr>\n",
       "      <th>9</th>\n",
       "      <td>20</td>\n",
       "      <td>simple</td>\n",
       "      <td>T-SHIRT-PREMIUM-QUALITY</td>\n",
       "      <td>Üstün kaliteli</td>\n",
       "      <td>1</td>\n",
       "      <td>0</td>\n",
       "      <td>visible</td>\n",
       "      <td>Gül filmini mi gitti mıknatıslı okuma sayfası ...</td>\n",
       "      <td>Gül filmini mi gitti mıknatıslı okuma sayfası ...</td>\n",
       "      <td>NaN</td>\n",
       "      <td>...</td>\n",
       "      <td>NaN</td>\n",
       "      <td>NaN</td>\n",
       "      <td>NaN</td>\n",
       "      <td>NaN</td>\n",
       "      <td>NaN</td>\n",
       "      <td>NaN</td>\n",
       "      <td>NaN</td>\n",
       "      <td>NaN</td>\n",
       "      <td>NaN</td>\n",
       "      <td>NaN</td>\n",
       "    </tr>\n",
       "    <tr>\n",
       "      <th>10</th>\n",
       "      <td>21</td>\n",
       "      <td>variable</td>\n",
       "      <td>T-SHIRT-SHIP-YOUR-IDEA</td>\n",
       "      <td>Fikrini Gönder</td>\n",
       "      <td>1</td>\n",
       "      <td>0</td>\n",
       "      <td>visible</td>\n",
       "      <td>Gül filmini mi gitti mıknatıslı okuma sayfası ...</td>\n",
       "      <td>Gül filmini mi gitti mıknatıslı okuma sayfası ...</td>\n",
       "      <td>NaN</td>\n",
       "      <td>...</td>\n",
       "      <td>Color</td>\n",
       "      <td>Black, Green</td>\n",
       "      <td>0.0</td>\n",
       "      <td>1.0</td>\n",
       "      <td>NaN</td>\n",
       "      <td>NaN</td>\n",
       "      <td>NaN</td>\n",
       "      <td>NaN</td>\n",
       "      <td>NaN</td>\n",
       "      <td>NaN</td>\n",
       "    </tr>\n",
       "    <tr>\n",
       "      <th>11</th>\n",
       "      <td>22</td>\n",
       "      <td>variable</td>\n",
       "      <td>HOODIE-SHIP-YOUR-IDEA</td>\n",
       "      <td>Fikrini Gönder</td>\n",
       "      <td>1</td>\n",
       "      <td>0</td>\n",
       "      <td>visible</td>\n",
       "      <td>Gül filmini mi gitti mıknatıslı okuma sayfası ...</td>\n",
       "      <td>Gül filmini mi gitti mıknatıslı okuma sayfası ...</td>\n",
       "      <td>NaN</td>\n",
       "      <td>...</td>\n",
       "      <td>Color</td>\n",
       "      <td>Black, Blue</td>\n",
       "      <td>0.0</td>\n",
       "      <td>1.0</td>\n",
       "      <td>Black</td>\n",
       "      <td>Size</td>\n",
       "      <td>L, XL</td>\n",
       "      <td>1.0</td>\n",
       "      <td>0.0</td>\n",
       "      <td>L</td>\n",
       "    </tr>\n",
       "    <tr>\n",
       "      <th>12</th>\n",
       "      <td>23</td>\n",
       "      <td>simple</td>\n",
       "      <td>T-SHIRT-NINJA-SILHOUETTE</td>\n",
       "      <td>Ninja Silueti</td>\n",
       "      <td>1</td>\n",
       "      <td>0</td>\n",
       "      <td>visible</td>\n",
       "      <td>Gül filmini mi gitti mıknatıslı okuma sayfası ...</td>\n",
       "      <td>Gül filmini mi gitti mıknatıslı okuma sayfası ...</td>\n",
       "      <td>NaN</td>\n",
       "      <td>...</td>\n",
       "      <td>NaN</td>\n",
       "      <td>NaN</td>\n",
       "      <td>NaN</td>\n",
       "      <td>NaN</td>\n",
       "      <td>NaN</td>\n",
       "      <td>NaN</td>\n",
       "      <td>NaN</td>\n",
       "      <td>NaN</td>\n",
       "      <td>NaN</td>\n",
       "      <td>NaN</td>\n",
       "    </tr>\n",
       "    <tr>\n",
       "      <th>13</th>\n",
       "      <td>24</td>\n",
       "      <td>simple</td>\n",
       "      <td>T-SHIRT-HAPPY-NINJA</td>\n",
       "      <td>Mutlu Ninja</td>\n",
       "      <td>1</td>\n",
       "      <td>0</td>\n",
       "      <td>visible</td>\n",
       "      <td>Gül filmini mi gitti mıknatıslı okuma sayfası ...</td>\n",
       "      <td>Gül filmini mi gitti mıknatıslı okuma sayfası ...</td>\n",
       "      <td>NaN</td>\n",
       "      <td>...</td>\n",
       "      <td>NaN</td>\n",
       "      <td>NaN</td>\n",
       "      <td>NaN</td>\n",
       "      <td>NaN</td>\n",
       "      <td>NaN</td>\n",
       "      <td>NaN</td>\n",
       "      <td>NaN</td>\n",
       "      <td>NaN</td>\n",
       "      <td>NaN</td>\n",
       "      <td>NaN</td>\n",
       "    </tr>\n",
       "    <tr>\n",
       "      <th>14</th>\n",
       "      <td>25</td>\n",
       "      <td>simple</td>\n",
       "      <td>HOODIE-HAPPY-NINJA</td>\n",
       "      <td>Mutlu Ninja</td>\n",
       "      <td>1</td>\n",
       "      <td>0</td>\n",
       "      <td>visible</td>\n",
       "      <td>Gül filmini mi gitti mıknatıslı okuma sayfası ...</td>\n",
       "      <td>Gül filmini mi gitti mıknatıslı okuma sayfası ...</td>\n",
       "      <td>NaN</td>\n",
       "      <td>...</td>\n",
       "      <td>NaN</td>\n",
       "      <td>NaN</td>\n",
       "      <td>NaN</td>\n",
       "      <td>NaN</td>\n",
       "      <td>NaN</td>\n",
       "      <td>NaN</td>\n",
       "      <td>NaN</td>\n",
       "      <td>NaN</td>\n",
       "      <td>NaN</td>\n",
       "      <td>NaN</td>\n",
       "    </tr>\n",
       "    <tr>\n",
       "      <th>15</th>\n",
       "      <td>26</td>\n",
       "      <td>external</td>\n",
       "      <td>HOODIE-NINJA-SILHOUETTE</td>\n",
       "      <td>Ninja Silueti</td>\n",
       "      <td>1</td>\n",
       "      <td>0</td>\n",
       "      <td>visible</td>\n",
       "      <td>Gül filmini mi gitti mıknatıslı okuma sayfası ...</td>\n",
       "      <td>Gül filmini mi gitti mıknatıslı okuma sayfası ...</td>\n",
       "      <td>NaN</td>\n",
       "      <td>...</td>\n",
       "      <td>NaN</td>\n",
       "      <td>NaN</td>\n",
       "      <td>NaN</td>\n",
       "      <td>NaN</td>\n",
       "      <td>NaN</td>\n",
       "      <td>NaN</td>\n",
       "      <td>NaN</td>\n",
       "      <td>NaN</td>\n",
       "      <td>NaN</td>\n",
       "      <td>NaN</td>\n",
       "    </tr>\n",
       "    <tr>\n",
       "      <th>16</th>\n",
       "      <td>31</td>\n",
       "      <td>grouped</td>\n",
       "      <td>WOO-SINGLES</td>\n",
       "      <td>Woo Tekliler</td>\n",
       "      <td>1</td>\n",
       "      <td>0</td>\n",
       "      <td>visible</td>\n",
       "      <td>Gül filmini mi gitti mıknatıslı okuma sayfası ...</td>\n",
       "      <td>Gül filmini mi gitti mıknatıslı okuma sayfası ...</td>\n",
       "      <td>NaN</td>\n",
       "      <td>...</td>\n",
       "      <td>NaN</td>\n",
       "      <td>NaN</td>\n",
       "      <td>NaN</td>\n",
       "      <td>NaN</td>\n",
       "      <td>NaN</td>\n",
       "      <td>NaN</td>\n",
       "      <td>NaN</td>\n",
       "      <td>NaN</td>\n",
       "      <td>NaN</td>\n",
       "      <td>NaN</td>\n",
       "    </tr>\n",
       "    <tr>\n",
       "      <th>17</th>\n",
       "      <td>34</td>\n",
       "      <td>simple, virtual</td>\n",
       "      <td>WOO-ALBUM-4</td>\n",
       "      <td>Woo Albüm # 4</td>\n",
       "      <td>1</td>\n",
       "      <td>0</td>\n",
       "      <td>visible</td>\n",
       "      <td>Gül filmini mi gitti mıknatıslı okuma sayfası ...</td>\n",
       "      <td>Gül filmini mi gitti mıknatıslı okuma sayfası ...</td>\n",
       "      <td>NaN</td>\n",
       "      <td>...</td>\n",
       "      <td>NaN</td>\n",
       "      <td>NaN</td>\n",
       "      <td>NaN</td>\n",
       "      <td>NaN</td>\n",
       "      <td>NaN</td>\n",
       "      <td>NaN</td>\n",
       "      <td>NaN</td>\n",
       "      <td>NaN</td>\n",
       "      <td>NaN</td>\n",
       "      <td>NaN</td>\n",
       "    </tr>\n",
       "    <tr>\n",
       "      <th>18</th>\n",
       "      <td>43</td>\n",
       "      <td>simple</td>\n",
       "      <td>POSTER-WOO-LOGO</td>\n",
       "      <td>Woo Logosu</td>\n",
       "      <td>1</td>\n",
       "      <td>0</td>\n",
       "      <td>visible</td>\n",
       "      <td>Gül filmini mi gitti mıknatıslı okuma sayfası ...</td>\n",
       "      <td>Gül filmini mi gitti mıknatıslı okuma sayfası ...</td>\n",
       "      <td>NaN</td>\n",
       "      <td>...</td>\n",
       "      <td>NaN</td>\n",
       "      <td>NaN</td>\n",
       "      <td>NaN</td>\n",
       "      <td>NaN</td>\n",
       "      <td>NaN</td>\n",
       "      <td>NaN</td>\n",
       "      <td>NaN</td>\n",
       "      <td>NaN</td>\n",
       "      <td>NaN</td>\n",
       "      <td>NaN</td>\n",
       "    </tr>\n",
       "    <tr>\n",
       "      <th>19</th>\n",
       "      <td>46</td>\n",
       "      <td>simple</td>\n",
       "      <td>POSTER-WOO-NINJA</td>\n",
       "      <td>Woo Ninja</td>\n",
       "      <td>1</td>\n",
       "      <td>0</td>\n",
       "      <td>visible</td>\n",
       "      <td>Gül filmini mi gitti mıknatıslı okuma sayfası ...</td>\n",
       "      <td>Gül filmini mi gitti mıknatıslı okuma sayfası ...</td>\n",
       "      <td>NaN</td>\n",
       "      <td>...</td>\n",
       "      <td>NaN</td>\n",
       "      <td>NaN</td>\n",
       "      <td>NaN</td>\n",
       "      <td>NaN</td>\n",
       "      <td>NaN</td>\n",
       "      <td>NaN</td>\n",
       "      <td>NaN</td>\n",
       "      <td>NaN</td>\n",
       "      <td>NaN</td>\n",
       "      <td>NaN</td>\n",
       "    </tr>\n",
       "    <tr>\n",
       "      <th>20</th>\n",
       "      <td>49</td>\n",
       "      <td>simple</td>\n",
       "      <td>POSTER-PREMIUM-QUALITY</td>\n",
       "      <td>Üstün kaliteli</td>\n",
       "      <td>1</td>\n",
       "      <td>0</td>\n",
       "      <td>visible</td>\n",
       "      <td>Gül filmini mi gitti mıknatıslı okuma sayfası ...</td>\n",
       "      <td>Gül filmini mi gitti mıknatıslı okuma sayfası ...</td>\n",
       "      <td>NaN</td>\n",
       "      <td>...</td>\n",
       "      <td>NaN</td>\n",
       "      <td>NaN</td>\n",
       "      <td>NaN</td>\n",
       "      <td>NaN</td>\n",
       "      <td>NaN</td>\n",
       "      <td>NaN</td>\n",
       "      <td>NaN</td>\n",
       "      <td>NaN</td>\n",
       "      <td>NaN</td>\n",
       "      <td>NaN</td>\n",
       "    </tr>\n",
       "    <tr>\n",
       "      <th>21</th>\n",
       "      <td>52</td>\n",
       "      <td>simple</td>\n",
       "      <td>POSTER-FLYING-NINJA</td>\n",
       "      <td>Uçan Ninja</td>\n",
       "      <td>1</td>\n",
       "      <td>0</td>\n",
       "      <td>visible</td>\n",
       "      <td>Gül filmini mi gitti mıknatıslı okuma sayfası ...</td>\n",
       "      <td>Gül filmini mi gitti mıknatıslı okuma sayfası ...</td>\n",
       "      <td>NaN</td>\n",
       "      <td>...</td>\n",
       "      <td>NaN</td>\n",
       "      <td>NaN</td>\n",
       "      <td>NaN</td>\n",
       "      <td>NaN</td>\n",
       "      <td>NaN</td>\n",
       "      <td>NaN</td>\n",
       "      <td>NaN</td>\n",
       "      <td>NaN</td>\n",
       "      <td>NaN</td>\n",
       "      <td>NaN</td>\n",
       "    </tr>\n",
       "    <tr>\n",
       "      <th>22</th>\n",
       "      <td>55</td>\n",
       "      <td>simple</td>\n",
       "      <td>POSTER-SHIP-YOUR-IDEA</td>\n",
       "      <td>Fikrini Gönder</td>\n",
       "      <td>1</td>\n",
       "      <td>0</td>\n",
       "      <td>visible</td>\n",
       "      <td>Gül filmini mi gitti mıknatıslı okuma sayfası ...</td>\n",
       "      <td>Gül filmini mi gitti mıknatıslı okuma sayfası ...</td>\n",
       "      <td>NaN</td>\n",
       "      <td>...</td>\n",
       "      <td>NaN</td>\n",
       "      <td>NaN</td>\n",
       "      <td>NaN</td>\n",
       "      <td>NaN</td>\n",
       "      <td>NaN</td>\n",
       "      <td>NaN</td>\n",
       "      <td>NaN</td>\n",
       "      <td>NaN</td>\n",
       "      <td>NaN</td>\n",
       "      <td>NaN</td>\n",
       "    </tr>\n",
       "    <tr>\n",
       "      <th>23</th>\n",
       "      <td>64</td>\n",
       "      <td>simple</td>\n",
       "      <td>HOODIE-PATIENT-NINJA</td>\n",
       "      <td>Hasta Ninja</td>\n",
       "      <td>1</td>\n",
       "      <td>0</td>\n",
       "      <td>visible</td>\n",
       "      <td>Gül filmini mi gitti mıknatıslı okuma sayfası ...</td>\n",
       "      <td>Gül filmini mi gitti mıknatıslı okuma sayfası ...</td>\n",
       "      <td>NaN</td>\n",
       "      <td>...</td>\n",
       "      <td>NaN</td>\n",
       "      <td>NaN</td>\n",
       "      <td>NaN</td>\n",
       "      <td>NaN</td>\n",
       "      <td>NaN</td>\n",
       "      <td>NaN</td>\n",
       "      <td>NaN</td>\n",
       "      <td>NaN</td>\n",
       "      <td>NaN</td>\n",
       "      <td>NaN</td>\n",
       "    </tr>\n",
       "    <tr>\n",
       "      <th>24</th>\n",
       "      <td>71</td>\n",
       "      <td>variation</td>\n",
       "      <td>HOODIE-SHIP-YOUR-IDEA-BLUE-XL</td>\n",
       "      <td>Fikrini Gönder - Mavi, XL</td>\n",
       "      <td>1</td>\n",
       "      <td>0</td>\n",
       "      <td>visible</td>\n",
       "      <td>NaN</td>\n",
       "      <td>NaN</td>\n",
       "      <td>NaN</td>\n",
       "      <td>...</td>\n",
       "      <td>Color</td>\n",
       "      <td>Blue</td>\n",
       "      <td>NaN</td>\n",
       "      <td>1.0</td>\n",
       "      <td>NaN</td>\n",
       "      <td>Size</td>\n",
       "      <td>XL</td>\n",
       "      <td>NaN</td>\n",
       "      <td>0.0</td>\n",
       "      <td>NaN</td>\n",
       "    </tr>\n",
       "    <tr>\n",
       "      <th>25</th>\n",
       "      <td>72</td>\n",
       "      <td>variation</td>\n",
       "      <td>HOODIE-SHIP-YOUR-IDEA-BLACK-L</td>\n",
       "      <td>Fikrini Gönder - Siyah, L</td>\n",
       "      <td>1</td>\n",
       "      <td>0</td>\n",
       "      <td>visible</td>\n",
       "      <td>NaN</td>\n",
       "      <td>NaN</td>\n",
       "      <td>NaN</td>\n",
       "      <td>...</td>\n",
       "      <td>Color</td>\n",
       "      <td>Black</td>\n",
       "      <td>NaN</td>\n",
       "      <td>1.0</td>\n",
       "      <td>NaN</td>\n",
       "      <td>Size</td>\n",
       "      <td>L</td>\n",
       "      <td>NaN</td>\n",
       "      <td>0.0</td>\n",
       "      <td>NaN</td>\n",
       "    </tr>\n",
       "    <tr>\n",
       "      <th>26</th>\n",
       "      <td>84</td>\n",
       "      <td>variation</td>\n",
       "      <td>T-SHIRT-SHIP-YOUR-IDEA-GREEN</td>\n",
       "      <td>Fikrini Gönder - Yeşil</td>\n",
       "      <td>1</td>\n",
       "      <td>0</td>\n",
       "      <td>visible</td>\n",
       "      <td>NaN</td>\n",
       "      <td>NaN</td>\n",
       "      <td>NaN</td>\n",
       "      <td>...</td>\n",
       "      <td>Color</td>\n",
       "      <td>Green</td>\n",
       "      <td>NaN</td>\n",
       "      <td>1.0</td>\n",
       "      <td>NaN</td>\n",
       "      <td>NaN</td>\n",
       "      <td>NaN</td>\n",
       "      <td>NaN</td>\n",
       "      <td>NaN</td>\n",
       "      <td>NaN</td>\n",
       "    </tr>\n",
       "    <tr>\n",
       "      <th>27</th>\n",
       "      <td>85</td>\n",
       "      <td>variation</td>\n",
       "      <td>T-SHIRT-SHIP-YOUR-IDEA-BLACK</td>\n",
       "      <td>Fikrini Gönder - Siyah</td>\n",
       "      <td>1</td>\n",
       "      <td>0</td>\n",
       "      <td>visible</td>\n",
       "      <td>NaN</td>\n",
       "      <td>NaN</td>\n",
       "      <td>NaN</td>\n",
       "      <td>...</td>\n",
       "      <td>Color</td>\n",
       "      <td>Black</td>\n",
       "      <td>NaN</td>\n",
       "      <td>1.0</td>\n",
       "      <td>NaN</td>\n",
       "      <td>NaN</td>\n",
       "      <td>NaN</td>\n",
       "      <td>NaN</td>\n",
       "      <td>NaN</td>\n",
       "      <td>NaN</td>\n",
       "    </tr>\n",
       "  </tbody>\n",
       "</table>\n",
       "<p>28 rows × 51 columns</p>\n",
       "</div>"
      ],
      "text/plain": [
       "    Kimlik                            Tür                Stok kodu (SKU)  \\\n",
       "0       11  simple, downloadable, virtual                   WOO-SINGLE-1   \n",
       "1       12  simple, downloadable, virtual                   WOO-SINGLE-2   \n",
       "2       13                simple, virtual                    WOO-ALBUM-1   \n",
       "3       14                simple, virtual                    WOO-ALBUM-2   \n",
       "4       15                simple, virtual                    WOO-ALBUM-3   \n",
       "5       16                         simple               T-SHIRT-WOO-LOGO   \n",
       "6       17                         simple                HOODIE-WOO-LOGO   \n",
       "7       18                         simple              T-SHIRT-WOO-NINJA   \n",
       "8       19                         simple               HOODIE-WOO-NINJA   \n",
       "9       20                         simple        T-SHIRT-PREMIUM-QUALITY   \n",
       "10      21                       variable         T-SHIRT-SHIP-YOUR-IDEA   \n",
       "11      22                       variable          HOODIE-SHIP-YOUR-IDEA   \n",
       "12      23                         simple       T-SHIRT-NINJA-SILHOUETTE   \n",
       "13      24                         simple            T-SHIRT-HAPPY-NINJA   \n",
       "14      25                         simple             HOODIE-HAPPY-NINJA   \n",
       "15      26                       external        HOODIE-NINJA-SILHOUETTE   \n",
       "16      31                        grouped                    WOO-SINGLES   \n",
       "17      34                simple, virtual                    WOO-ALBUM-4   \n",
       "18      43                         simple                POSTER-WOO-LOGO   \n",
       "19      46                         simple               POSTER-WOO-NINJA   \n",
       "20      49                         simple         POSTER-PREMIUM-QUALITY   \n",
       "21      52                         simple            POSTER-FLYING-NINJA   \n",
       "22      55                         simple          POSTER-SHIP-YOUR-IDEA   \n",
       "23      64                         simple           HOODIE-PATIENT-NINJA   \n",
       "24      71                      variation  HOODIE-SHIP-YOUR-IDEA-BLUE-XL   \n",
       "25      72                      variation  HOODIE-SHIP-YOUR-IDEA-BLACK-L   \n",
       "26      84                      variation   T-SHIRT-SHIP-YOUR-IDEA-GREEN   \n",
       "27      85                      variation   T-SHIRT-SHIP-YOUR-IDEA-BLACK   \n",
       "\n",
       "                         İsim  Yayımlanmış  Öne çıkan? Katalogda görünürlük  \\\n",
       "0               Woo Tekli # 1            1           0              visible   \n",
       "1               Woo Tekli # 2            1           0              visible   \n",
       "2               Woo Albüm # 1            1           0              visible   \n",
       "3               Woo Albüm # 2            1           0              visible   \n",
       "4               Woo Albüm # 3            1           0              visible   \n",
       "5                  Woo Logosu            1           0              visible   \n",
       "6                  Woo Logosu            1           0              visible   \n",
       "7                   Woo Ninja            1           0              visible   \n",
       "8                   Woo Ninja            1           0              visible   \n",
       "9              Üstün kaliteli            1           0              visible   \n",
       "10             Fikrini Gönder            1           0              visible   \n",
       "11             Fikrini Gönder            1           0              visible   \n",
       "12              Ninja Silueti            1           0              visible   \n",
       "13                Mutlu Ninja            1           0              visible   \n",
       "14                Mutlu Ninja            1           0              visible   \n",
       "15              Ninja Silueti            1           0              visible   \n",
       "16               Woo Tekliler            1           0              visible   \n",
       "17              Woo Albüm # 4            1           0              visible   \n",
       "18                 Woo Logosu            1           0              visible   \n",
       "19                  Woo Ninja            1           0              visible   \n",
       "20             Üstün kaliteli            1           0              visible   \n",
       "21                 Uçan Ninja            1           0              visible   \n",
       "22             Fikrini Gönder            1           0              visible   \n",
       "23                Hasta Ninja            1           0              visible   \n",
       "24  Fikrini Gönder - Mavi, XL            1           0              visible   \n",
       "25  Fikrini Gönder - Siyah, L            1           0              visible   \n",
       "26     Fikrini Gönder - Yeşil            1           0              visible   \n",
       "27     Fikrini Gönder - Siyah            1           0              visible   \n",
       "\n",
       "                                        Kısa açıklama  \\\n",
       "0   Gül filmini mi gitti mıknatıslı okuma sayfası ...   \n",
       "1   Gül filmini mi gitti mıknatıslı okuma sayfası ...   \n",
       "2   Gül filmini mi gitti mıknatıslı okuma sayfası ...   \n",
       "3   Gül filmini mi gitti mıknatıslı okuma sayfası ...   \n",
       "4   Gül filmini mi gitti mıknatıslı okuma sayfası ...   \n",
       "5   Gül filmini mi gitti mıknatıslı okuma sayfası ...   \n",
       "6   Gül filmini mi gitti mıknatıslı okuma sayfası ...   \n",
       "7   Gül filmini mi gitti mıknatıslı okuma sayfası ...   \n",
       "8   Gül filmini mi gitti mıknatıslı okuma sayfası ...   \n",
       "9   Gül filmini mi gitti mıknatıslı okuma sayfası ...   \n",
       "10  Gül filmini mi gitti mıknatıslı okuma sayfası ...   \n",
       "11  Gül filmini mi gitti mıknatıslı okuma sayfası ...   \n",
       "12  Gül filmini mi gitti mıknatıslı okuma sayfası ...   \n",
       "13  Gül filmini mi gitti mıknatıslı okuma sayfası ...   \n",
       "14  Gül filmini mi gitti mıknatıslı okuma sayfası ...   \n",
       "15  Gül filmini mi gitti mıknatıslı okuma sayfası ...   \n",
       "16  Gül filmini mi gitti mıknatıslı okuma sayfası ...   \n",
       "17  Gül filmini mi gitti mıknatıslı okuma sayfası ...   \n",
       "18  Gül filmini mi gitti mıknatıslı okuma sayfası ...   \n",
       "19  Gül filmini mi gitti mıknatıslı okuma sayfası ...   \n",
       "20  Gül filmini mi gitti mıknatıslı okuma sayfası ...   \n",
       "21  Gül filmini mi gitti mıknatıslı okuma sayfası ...   \n",
       "22  Gül filmini mi gitti mıknatıslı okuma sayfası ...   \n",
       "23  Gül filmini mi gitti mıknatıslı okuma sayfası ...   \n",
       "24                                                NaN   \n",
       "25                                                NaN   \n",
       "26                                                NaN   \n",
       "27                                                NaN   \n",
       "\n",
       "                                             Açıklama  \\\n",
       "0   Gül filmini mi gitti mıknatıslı okuma sayfası ...   \n",
       "1   Gül filmini mi gitti mıknatıslı okuma sayfası ...   \n",
       "2   Gül filmini mi gitti mıknatıslı okuma sayfası ...   \n",
       "3   Gül filmini mi gitti mıknatıslı okuma sayfası ...   \n",
       "4   Gül filmini mi gitti mıknatıslı okuma sayfası ...   \n",
       "5   Gül filmini mi gitti mıknatıslı okuma sayfası ...   \n",
       "6   Gül filmini mi gitti mıknatıslı okuma sayfası ...   \n",
       "7   Gül filmini mi gitti mıknatıslı okuma sayfası ...   \n",
       "8   Gül filmini mi gitti mıknatıslı okuma sayfası ...   \n",
       "9   Gül filmini mi gitti mıknatıslı okuma sayfası ...   \n",
       "10  Gül filmini mi gitti mıknatıslı okuma sayfası ...   \n",
       "11  Gül filmini mi gitti mıknatıslı okuma sayfası ...   \n",
       "12  Gül filmini mi gitti mıknatıslı okuma sayfası ...   \n",
       "13  Gül filmini mi gitti mıknatıslı okuma sayfası ...   \n",
       "14  Gül filmini mi gitti mıknatıslı okuma sayfası ...   \n",
       "15  Gül filmini mi gitti mıknatıslı okuma sayfası ...   \n",
       "16  Gül filmini mi gitti mıknatıslı okuma sayfası ...   \n",
       "17  Gül filmini mi gitti mıknatıslı okuma sayfası ...   \n",
       "18  Gül filmini mi gitti mıknatıslı okuma sayfası ...   \n",
       "19  Gül filmini mi gitti mıknatıslı okuma sayfası ...   \n",
       "20  Gül filmini mi gitti mıknatıslı okuma sayfası ...   \n",
       "21  Gül filmini mi gitti mıknatıslı okuma sayfası ...   \n",
       "22  Gül filmini mi gitti mıknatıslı okuma sayfası ...   \n",
       "23  Gül filmini mi gitti mıknatıslı okuma sayfası ...   \n",
       "24                                                NaN   \n",
       "25                                                NaN   \n",
       "26                                                NaN   \n",
       "27                                                NaN   \n",
       "\n",
       "    İndirimli fiyatın başladığı tarih  ...  Nitelik 1 ismi  \\\n",
       "0                                 NaN  ...             NaN   \n",
       "1                                 NaN  ...             NaN   \n",
       "2                                 NaN  ...             NaN   \n",
       "3                                 NaN  ...             NaN   \n",
       "4                                 NaN  ...             NaN   \n",
       "5                                 NaN  ...             NaN   \n",
       "6                                 NaN  ...             NaN   \n",
       "7                                 NaN  ...             NaN   \n",
       "8                                 NaN  ...             NaN   \n",
       "9                                 NaN  ...             NaN   \n",
       "10                                NaN  ...           Color   \n",
       "11                                NaN  ...           Color   \n",
       "12                                NaN  ...             NaN   \n",
       "13                                NaN  ...             NaN   \n",
       "14                                NaN  ...             NaN   \n",
       "15                                NaN  ...             NaN   \n",
       "16                                NaN  ...             NaN   \n",
       "17                                NaN  ...             NaN   \n",
       "18                                NaN  ...             NaN   \n",
       "19                                NaN  ...             NaN   \n",
       "20                                NaN  ...             NaN   \n",
       "21                                NaN  ...             NaN   \n",
       "22                                NaN  ...             NaN   \n",
       "23                                NaN  ...             NaN   \n",
       "24                                NaN  ...           Color   \n",
       "25                                NaN  ...           Color   \n",
       "26                                NaN  ...           Color   \n",
       "27                                NaN  ...           Color   \n",
       "\n",
       "   Nitelik 1 değer(ler)i  Nitelik 1 görünür  Nitelik 1 genel  \\\n",
       "0                    NaN                NaN              NaN   \n",
       "1                    NaN                NaN              NaN   \n",
       "2                    NaN                NaN              NaN   \n",
       "3                    NaN                NaN              NaN   \n",
       "4                    NaN                NaN              NaN   \n",
       "5                    NaN                NaN              NaN   \n",
       "6                    NaN                NaN              NaN   \n",
       "7                    NaN                NaN              NaN   \n",
       "8                    NaN                NaN              NaN   \n",
       "9                    NaN                NaN              NaN   \n",
       "10          Black, Green                0.0              1.0   \n",
       "11           Black, Blue                0.0              1.0   \n",
       "12                   NaN                NaN              NaN   \n",
       "13                   NaN                NaN              NaN   \n",
       "14                   NaN                NaN              NaN   \n",
       "15                   NaN                NaN              NaN   \n",
       "16                   NaN                NaN              NaN   \n",
       "17                   NaN                NaN              NaN   \n",
       "18                   NaN                NaN              NaN   \n",
       "19                   NaN                NaN              NaN   \n",
       "20                   NaN                NaN              NaN   \n",
       "21                   NaN                NaN              NaN   \n",
       "22                   NaN                NaN              NaN   \n",
       "23                   NaN                NaN              NaN   \n",
       "24                  Blue                NaN              1.0   \n",
       "25                 Black                NaN              1.0   \n",
       "26                 Green                NaN              1.0   \n",
       "27                 Black                NaN              1.0   \n",
       "\n",
       "    Nitelik 1 varsayılan  Nitelik 2 ismi  Nitelik 2 değer(ler)i  \\\n",
       "0                    NaN             NaN                    NaN   \n",
       "1                    NaN             NaN                    NaN   \n",
       "2                    NaN             NaN                    NaN   \n",
       "3                    NaN             NaN                    NaN   \n",
       "4                    NaN             NaN                    NaN   \n",
       "5                    NaN             NaN                    NaN   \n",
       "6                    NaN             NaN                    NaN   \n",
       "7                    NaN             NaN                    NaN   \n",
       "8                    NaN             NaN                    NaN   \n",
       "9                    NaN             NaN                    NaN   \n",
       "10                   NaN             NaN                    NaN   \n",
       "11                 Black            Size                  L, XL   \n",
       "12                   NaN             NaN                    NaN   \n",
       "13                   NaN             NaN                    NaN   \n",
       "14                   NaN             NaN                    NaN   \n",
       "15                   NaN             NaN                    NaN   \n",
       "16                   NaN             NaN                    NaN   \n",
       "17                   NaN             NaN                    NaN   \n",
       "18                   NaN             NaN                    NaN   \n",
       "19                   NaN             NaN                    NaN   \n",
       "20                   NaN             NaN                    NaN   \n",
       "21                   NaN             NaN                    NaN   \n",
       "22                   NaN             NaN                    NaN   \n",
       "23                   NaN             NaN                    NaN   \n",
       "24                   NaN            Size                     XL   \n",
       "25                   NaN            Size                      L   \n",
       "26                   NaN             NaN                    NaN   \n",
       "27                   NaN             NaN                    NaN   \n",
       "\n",
       "    Nitelik 2 görünür  Nitelik 2 genel  Nitelik 2 varsayılan  \n",
       "0                 NaN              NaN                   NaN  \n",
       "1                 NaN              NaN                   NaN  \n",
       "2                 NaN              NaN                   NaN  \n",
       "3                 NaN              NaN                   NaN  \n",
       "4                 NaN              NaN                   NaN  \n",
       "5                 NaN              NaN                   NaN  \n",
       "6                 NaN              NaN                   NaN  \n",
       "7                 NaN              NaN                   NaN  \n",
       "8                 NaN              NaN                   NaN  \n",
       "9                 NaN              NaN                   NaN  \n",
       "10                NaN              NaN                   NaN  \n",
       "11                1.0              0.0                     L  \n",
       "12                NaN              NaN                   NaN  \n",
       "13                NaN              NaN                   NaN  \n",
       "14                NaN              NaN                   NaN  \n",
       "15                NaN              NaN                   NaN  \n",
       "16                NaN              NaN                   NaN  \n",
       "17                NaN              NaN                   NaN  \n",
       "18                NaN              NaN                   NaN  \n",
       "19                NaN              NaN                   NaN  \n",
       "20                NaN              NaN                   NaN  \n",
       "21                NaN              NaN                   NaN  \n",
       "22                NaN              NaN                   NaN  \n",
       "23                NaN              NaN                   NaN  \n",
       "24                NaN              0.0                   NaN  \n",
       "25                NaN              0.0                   NaN  \n",
       "26                NaN              NaN                   NaN  \n",
       "27                NaN              NaN                   NaN  \n",
       "\n",
       "[28 rows x 51 columns]"
      ]
     },
     "execution_count": 37,
     "metadata": {},
     "output_type": "execute_result"
    }
   ],
   "source": [
    "df_converter()"
   ]
  },
  {
   "cell_type": "markdown",
   "id": "657f9b20",
   "metadata": {},
   "source": [
    "# Preview Button"
   ]
  },
  {
   "cell_type": "code",
   "execution_count": 30,
   "id": "d74e87c6",
   "metadata": {},
   "outputs": [],
   "source": [
    "def preview():\n",
    "    df = df_converter()\n",
    "    with out:\n",
    "        out.clear_output()\n",
    "        print('\\n -----Now this is how your DF looks like:----- \\n')\n",
    "        if df is not None:\n",
    "            print(df.head(10))\n",
    "        else:\n",
    "            print('Configuration is wrong/missing...')\n"
   ]
  },
  {
   "cell_type": "code",
   "execution_count": 31,
   "id": "5690a077",
   "metadata": {},
   "outputs": [],
   "source": [
    "def preview_clicked(b):\n",
    "    preview()\n",
    "button_preview.on_click(preview_clicked)"
   ]
  },
  {
   "cell_type": "markdown",
   "id": "a7637e8d",
   "metadata": {},
   "source": [
    "# Upload Button"
   ]
  },
  {
   "cell_type": "code",
   "execution_count": 32,
   "id": "4e57c1f0",
   "metadata": {},
   "outputs": [],
   "source": [
    "def upload():\n",
    "    df = df_converter()\n",
    "    with out:\n",
    "        out.clear_output()\n",
    "        print('\\n --------Your uploaded DF looks like:-------- \\n')\n",
    "        if df is not None:\n",
    "            print(df)\n",
    "            x_axis.options = df.columns\n",
    "            y_axis.options = df.columns\n",
    "        else:\n",
    "            print('Configuration is wrong/missing...')\n"
   ]
  },
  {
   "cell_type": "code",
   "execution_count": 38,
   "id": "e95eb30a",
   "metadata": {},
   "outputs": [],
   "source": [
    "def upload_clicked(b):\n",
    "    upload()\n",
    "button_upload.on_click(upload_clicked)"
   ]
  },
  {
   "cell_type": "markdown",
   "id": "a77122dd",
   "metadata": {},
   "source": [
    "# Description Toggle Button"
   ]
  },
  {
   "cell_type": "code",
   "execution_count": 39,
   "id": "92b53717",
   "metadata": {},
   "outputs": [],
   "source": [
    "def desc():\n",
    "    info_level = toggle.value\n",
    "    if info_level != {}:\n",
    "        df = df_converter()\n",
    "        with out:\n",
    "            out.clear_output()\n",
    "            print('\\n ------Your {} looks like:------ \\n'.format(\n",
    "                info_level))\n",
    "            if df is not None:\n",
    "                if info_level == 'Info  ':\n",
    "                    print(df.info(verbose=True))\n",
    "                elif info_level == 'Stats  ':\n",
    "                    print(df.describe())\n",
    "                elif info_level == 'Preview  ':\n",
    "                    print(df.head(5))\n",
    "                else:\n",
    "                    print('Configuration is wrong/missing...')"
   ]
  },
  {
   "cell_type": "code",
   "execution_count": 40,
   "id": "3c711e8c",
   "metadata": {},
   "outputs": [],
   "source": [
    "def desc_clicked(b):\n",
    "    desc()\n",
    "toggle.observe(desc_clicked, 'value')"
   ]
  },
  {
   "cell_type": "markdown",
   "id": "675fb8ff",
   "metadata": {},
   "source": [
    "# Plot Button"
   ]
  },
  {
   "cell_type": "code",
   "execution_count": 41,
   "id": "12ec7cea",
   "metadata": {},
   "outputs": [],
   "source": [
    "def plot():\n",
    "    graph = graph_type.value\n",
    "    if graph != {}:\n",
    "        df = df_converter()\n",
    "        with out:\n",
    "            out.clear_output()\n",
    "            print('\\n ------Your {} looks like:------ \\n'.format(\n",
    "                graph))\n",
    "            if (df is not None):\n",
    "                df = df.head(5)\n",
    "                height = df[y_axis.value]\n",
    "                bars = df[x_axis.value]\n",
    "                y_pos = np.arange(len(height))\n",
    "                plt.figure(figsize=(10,4))\n",
    "                if graph == 'Bar Chart':\n",
    "                    plt.bar(\n",
    "                        y_pos, \n",
    "                        height, \n",
    "                        color=color_picker.value)\n",
    "                    plt.xticks(y_pos, bars)\n",
    "                elif graph == 'Line Chart':\n",
    "                    plt.plot(\n",
    "                        bars,\n",
    "                        height, \n",
    "                        color=color_picker.value,\n",
    "                        marker='o', \n",
    "                        linestyle='solid'\n",
    "                    )\n",
    "                    plt.xticks(bars)\n",
    "                plt.show()"
   ]
  },
  {
   "cell_type": "code",
   "execution_count": 42,
   "id": "ae38ad2e",
   "metadata": {},
   "outputs": [],
   "source": [
    "def plotter_clicked(b):\n",
    "    plot()\n",
    "button_plot.on_click(plotter_clicked)"
   ]
  },
  {
   "cell_type": "code",
   "execution_count": 44,
   "id": "8541880c",
   "metadata": {},
   "outputs": [
    {
     "data": {
      "application/vnd.jupyter.widget-view+json": {
       "model_id": "86c0149d07064de18684adfa9ce1d0c1",
       "version_major": 2,
       "version_minor": 0
      },
      "text/plain": [
       "Tab(children=(VBox(children=(Accordion(children=(FileUpload(value={'woocommerce-ornek-urun-turkce.csv': {'meta…"
      ]
     },
     "metadata": {},
     "output_type": "display_data"
    }
   ],
   "source": [
    "tab"
   ]
  },
  {
   "cell_type": "code",
   "execution_count": null,
   "id": "e3e2c760",
   "metadata": {},
   "outputs": [],
   "source": []
  },
  {
   "cell_type": "code",
   "execution_count": null,
   "id": "694bfcc5",
   "metadata": {},
   "outputs": [],
   "source": []
  }
 ],
 "metadata": {
  "kernelspec": {
   "display_name": "Python 3 (ipykernel)",
   "language": "python",
   "name": "python3"
  },
  "language_info": {
   "codemirror_mode": {
    "name": "ipython",
    "version": 3
   },
   "file_extension": ".py",
   "mimetype": "text/x-python",
   "name": "python",
   "nbconvert_exporter": "python",
   "pygments_lexer": "ipython3",
   "version": "3.9.12"
  }
 },
 "nbformat": 4,
 "nbformat_minor": 5
}
